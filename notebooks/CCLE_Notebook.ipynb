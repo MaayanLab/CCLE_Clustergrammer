{
 "cells": [
  {
   "cell_type": "markdown",
   "metadata": {},
   "source": [
    "# CCLE Tissue Expression Clustergrammer Visualizations\n",
    "This notebook will use the [Clustergrammer-Widget](http://clustergrammer.readthedocs.io/clustergrammer_widget.html) to visualize the Cancer cell line Encyclopedia gene expression data ([Broad-Institute CCLE](https://software.broadinstitute.org/software/cprg/?q=node/11)). Also, see the [Clustergrammer CCLE Explorer](https://maayanlab.github.io/CCLE_Clustergrammer/) for an interactive view of all CCLE tissues. \n",
    "\n",
    "We will start by importing required libraries and initializing the Clustergrammer [Network](http://clustergrammer.readthedocs.io/clustergrammer_py.html#clustergrammer-py-api) object: \n"
   ]
  },
  {
   "cell_type": "code",
   "execution_count": 1,
   "metadata": {
    "collapsed": true
   },
   "outputs": [],
   "source": [
    "import pandas as pd\n",
    "from clustergrammer_widget import *\n",
    "net = Network(clustergrammer_widget)"
   ]
  },
  {
   "cell_type": "markdown",
   "metadata": {},
   "source": [
    "### Load CCLE data\n",
    "We are using a slightly reformatted version of the CCLE gene expression data with modified cell line meta-data (category) formatting. You can see below how cell-line categorical information (e.g. tissue) information is encoded as column tuples. The matrix has 18,874 rows (genes) and 1,037 columns (cell-lines)."
   ]
  },
  {
   "cell_type": "code",
   "execution_count": 2,
   "metadata": {},
   "outputs": [
    {
     "name": "stdout",
     "output_type": "stream",
     "text": [
      "(18874, 1037)\n"
     ]
    }
   ],
   "source": [
    "net.load_file('../original_data/CCLE.txt')\n",
    "ccle = net.export_df()\n",
    "print(ccle.shape)"
   ]
  },
  {
   "cell_type": "markdown",
   "metadata": {},
   "source": [
    "# Bone Tissue Expression\n",
    "The CCLE dataset is too large to directly visualize using the Clustergrammer-Widget, but we can directly visualize tissue-specific subsets of the data. Here we will visualize the top 250 most variable genes in bone cancers, which will help us identify subsets within bone cancer. We will also initialize the visualization with enrichment for Gene Ontology terms using [Enrichr](http://amp.pharm.mssm.edu/Enrichr/) and the ``enrichrgram`` method."
   ]
  },
  {
   "cell_type": "code",
   "execution_count": 3,
   "metadata": {},
   "outputs": [
    {
     "data": {
      "application/vnd.jupyter.widget-view+json": {
       "model_id": "6ad11c5e897f49859de1f93c807a02be"
      }
     },
     "metadata": {},
     "output_type": "display_data"
    }
   ],
   "source": [
    "# filter for columns with category 1 bone\n",
    "net.filter_cat('col', 1, 'tissue: bone')\n",
    "# keep top 250 most variable genes\n",
    "net.filter_N_top('row', 250, 'var')\n",
    "# normalize gene expression across bone cancers\n",
    "net.normalize(axis='row', norm_type='zscore')\n",
    "# perform enrichment analysis on genes\n",
    "net.enrichrgram('GO_Biological_Process_2015')\n",
    "net.cluster()\n",
    "net.widget()"
   ]
  },
  {
   "cell_type": "markdown",
   "metadata": {
    "collapsed": true
   },
   "source": [
    "### Bone Cancer Cell Lines Cluster Based on their Histology\n",
    "Osteosarcoma, Giant Cell Tumor, and Chondrosarcoma cluster separately from Ewings sarcoma-peripheral-primitive-neuroectodermal-tumors.\n",
    "\n",
    "### Gene Ontology: Biological Process\n",
    "We can see that the up-regulated genes in Chondrosarcomas and Osteosarcomas are enriched in extracellular-matrix related terms, which makes sense for bone cancers. These ontology terms are associated with genes that are up-regulated in osteosarcomas and chondrosarcomas, but not Ewings-sarcoma. To investigate the up-regulated gnes in Ewings-sarcoma, we can use the [interactive dendrogram](http://clustergrammer.readthedocs.io/interacting_with_viz.html#interactive-dendrogram) to select these up-regulated genes and perform enrichment analysis. After updating our Gene Ontology enrichment (using [Enrichrgram](http://clustergrammer.readthedocs.io/biology_specific_features.html#enrichment-analysis) we see that these genes are enriched for behavior- and neuronal-related terms, which seems to agree with the neuroectodermal association of this tumor type. "
   ]
  },
  {
   "cell_type": "markdown",
   "metadata": {},
   "source": [
    "# Haematopoietic and Lymphoid Tissue\n",
    "There are 180 haematopoietic and lymphoid tissue cell lines. Below we will visualize the top 250 variably expressed genes across this tissue type and initialize the visualization with enrichment for Gene Ontology for biological process. "
   ]
  },
  {
   "cell_type": "code",
   "execution_count": 40,
   "metadata": {},
   "outputs": [
    {
     "data": {
      "application/vnd.jupyter.widget-view+json": {
       "model_id": "69683197bb694b4c91370e8bb4a3f52f"
      }
     },
     "metadata": {},
     "output_type": "display_data"
    }
   ],
   "source": [
    "net.load_df(ccle)\n",
    "net.filter_cat('col', 1, 'tissue: haematopoietic_and_lymphoid_tissue')\n",
    "\n",
    "# setting some colors manually\n",
    "net.set_cat_color('col', 2, 'histology: lymphoid_neoplasm', 'blue')\n",
    "net.set_cat_color('col', 3, 'sub-histology: acute_myeloid_leukaemia', 'yellow')\n",
    "\n",
    "net.filter_N_top('row', 250, 'var')\n",
    "net.normalize(axis='row', norm_type='zscore')\n",
    "net.enrichrgram('GO_Biological_Process_2015')\n",
    "net.cluster()\n",
    "net.widget()"
   ]
  },
  {
   "cell_type": "markdown",
   "metadata": {},
   "source": [
    "### Haematopoietic and Lymphoid Tissue Cell Lines Cluster Based on Histology\n",
    "We see clear clustering of these cell lines based on their histology and sub-histology. We can also link up-regulated genes to specific histologies. For instance, there are two clusters of up-regulated genes (two top clusters) associated with cell lines with the histology haematopoietic_neoplasm. \n",
    "\n",
    "### Gene Ontology: Biological Process\n",
    "These differntially expressed genes across haematopoietic and lymphoid tissue are enriched for Gene Ontology biological process terms associated with cell activation, leukocyte activation, and immune related terms. "
   ]
  },
  {
   "cell_type": "markdown",
   "metadata": {
    "collapsed": true
   },
   "source": [
    "## Overview of the Entire CCLE\n",
    "We would like to get an overview of the entire CCLE gene expression data, but the dataset is too large to visualize direcly using Clustergrammer. Also, we are probably not interested in the expression data of all 18,000 genes, but only in a subset of genes; e.g. those that are 'differentially expressed' across some subset of tissues. \n",
    "\n",
    "We will use downsampling and filtering to get a more managable dataset, which we can visualize using Clustergrammer. First, we will use K-means to downsample the 1,037 cell lines down to 100 clusters and then we will filter for the top 1,000 differentially expressed genes. \n",
    "\n",
    "### Cell-line Downsampling\n",
    "We'll do the downsampling first and save it to ``ccle_ds``:"
   ]
  },
  {
   "cell_type": "code",
   "execution_count": 41,
   "metadata": {},
   "outputs": [
    {
     "data": {
      "text/plain": [
       "(18874, 100)"
      ]
     },
     "execution_count": 41,
     "metadata": {},
     "output_type": "execute_result"
    }
   ],
   "source": [
    "net.load_df(ccle)\n",
    "net.downsample(ds_type='kmeans', axis='col', num_samples=100)\n",
    "ccle_ds = net.export_df()\n",
    "ccle_ds.shape"
   ]
  },
  {
   "cell_type": "markdown",
   "metadata": {},
   "source": [
    "Now our downsampled data, ``ccle_ds``, only has 100 columns. We have also dropped some column categories and are only keeping track of the maojrity tissue in each cell-line-cluster and the number of cell-lines in each cluster. We can see how this is encoded in the column names as tuples below:"
   ]
  },
  {
   "cell_type": "markdown",
   "metadata": {},
   "source": [
    "### Gene-Filtering and Normalization\n",
    "Next, we will filter out genes based on variance -- we will only keep the top 2,000 genes based on their variance. After this, we will Z-score normalize the genes across all cell-line-clusters to more easily compare their differential expression. We will perform these operations within the ``net`` object:"
   ]
  },
  {
   "cell_type": "code",
   "execution_count": 42,
   "metadata": {},
   "outputs": [
    {
     "name": "stdout",
     "output_type": "stream",
     "text": [
      "now our matrix has 1000 rows and 100 columns\n"
     ]
    },
    {
     "data": {
      "text/plain": [
       "(1000, 100)"
      ]
     },
     "execution_count": 42,
     "metadata": {},
     "output_type": "execute_result"
    }
   ],
   "source": [
    "net.load_df(ccle_ds)\n",
    "net.filter_N_top('row', 1000, rank_type='var')\n",
    "net.normalize(axis='row', norm_type='zscore', keep_orig=True)\n",
    "print('now our matrix has 1000 rows and 100 columns')\n",
    "net.dat['mat'].shape"
   ]
  },
  {
   "cell_type": "markdown",
   "metadata": {},
   "source": [
    "## Visualizing Downsampled Filtered CCLE Dataset\n",
    "Finally, we will use Clustergrammer to hierarchically cluster and visualize the downsampled and filtered dataset."
   ]
  },
  {
   "cell_type": "code",
   "execution_count": 43,
   "metadata": {
    "collapsed": true
   },
   "outputs": [],
   "source": [
    "net.set_cat_color('col', 1, 'Majority-tissue: haematopoietic_and_lymphoid_tissue', 'yellow')\n",
    "net.set_cat_color('col', 1, 'Majority-tissue: breast', 'red')\n",
    "net.set_cat_color('col', 1, 'Majority-tissue: upper_aerodigestive_tract', 'orange')\n",
    "net.set_cat_color('col', 1, 'Majority-tissue: central_nervous_system', 'blue')\n",
    "net.set_cat_color('col', 1, 'Majority-tissue: lung', 'purple')\n",
    "net.set_cat_color('col', 1, 'Majority-tissue: central_nervous_system', 'blue')\n",
    "net.set_cat_color('col', 1, 'Majority-tissue: kidney', '#32cd32')\n",
    "\n",
    "net.set_cat_color('col', 3, 'Majority-sub-histology: adenocarcinoma', 'yellow')"
   ]
  },
  {
   "cell_type": "code",
   "execution_count": 44,
   "metadata": {},
   "outputs": [
    {
     "data": {
      "application/vnd.jupyter.widget-view+json": {
       "model_id": "87bf47f9b2e74f0e8480e0a2d4ca0e05"
      }
     },
     "metadata": {},
     "output_type": "display_data"
    }
   ],
   "source": [
    "net.cluster(enrichrgram=True, views=[])\n",
    "net.widget()"
   ]
  },
  {
   "cell_type": "markdown",
   "metadata": {},
   "source": [
    "### Cell Line Tissue Clustering\n",
    "We see that cell-line-clusters (refered to as cell lines) cluster based on their tissue (majority tissue). We can also see that the cell lines fall into three large clusters (dendrogram level 6) that primarily consist of the following cell lines:\n",
    "\n",
    "![cell_type_comparisons](img/CCLE_ds_cluster_breakdowns.png)\n",
    "\n",
    "Cluster 2 contains lung and upper aerodigestive tract tissues, which are physiologically related tissues. Cluster 3 contains haematopoietic and lymphoid tissue and bone, which are also physiologically related.\n",
    "\n",
    "### Cell-line and Gene Clusters\n",
    "This overview shows us that we have four large gene clusters and three cell line clusters. We can zoom into the clusters to find out which genes are differentially expressed and mouseover specific gene name to bring up their full names and descriptions (via [Harmonizome](http://amp.pharm.mssm.edu/Harmonizome/)). Users can crop into clusters of genes and run enrichment analysis to investigate their functions. "
   ]
  },
  {
   "cell_type": "code",
   "execution_count": null,
   "metadata": {
    "collapsed": true
   },
   "outputs": [],
   "source": []
  }
 ],
 "metadata": {
  "kernelspec": {
   "display_name": "Python [Root]",
   "language": "python",
   "name": "Python [Root]"
  },
  "language_info": {
   "codemirror_mode": {
    "name": "ipython",
    "version": 2
   },
   "file_extension": ".py",
   "mimetype": "text/x-python",
   "name": "python",
   "nbconvert_exporter": "python",
   "pygments_lexer": "ipython2",
   "version": "2.7.12"
  },
  "widgets": {
   "application/vnd.jupyter.widget-state+json": {
    "state": {},
    "version_major": 1,
    "version_minor": 0
   }
  }
 },
 "nbformat": 4,
 "nbformat_minor": 2
}
